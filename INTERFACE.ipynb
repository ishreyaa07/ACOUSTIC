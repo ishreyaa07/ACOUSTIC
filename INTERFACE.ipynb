{
 "cells": [
  {
   "cell_type": "code",
   "execution_count": 7,
   "id": "8a41caf5",
   "metadata": {},
   "outputs": [
    {
     "name": "stdout",
     "output_type": "stream",
     "text": [
      "Running on local URL:  http://127.0.0.1:7863\n",
      "\n",
      "To create a public link, set `share=True` in `launch()`.\n"
     ]
    },
    {
     "data": {
      "text/html": [
       "<div><iframe src=\"http://127.0.0.1:7863/\" width=\"100%\" height=\"500\" allow=\"autoplay; camera; microphone; clipboard-read; clipboard-write;\" frameborder=\"0\" allowfullscreen></iframe></div>"
      ],
      "text/plain": [
       "<IPython.core.display.HTML object>"
      ]
     },
     "metadata": {},
     "output_type": "display_data"
    },
    {
     "data": {
      "text/plain": [
       "(<gradio.routes.App at 0x295764c5070>, 'http://127.0.0.1:7863/', None)"
      ]
     },
     "execution_count": 7,
     "metadata": {},
     "output_type": "execute_result"
    }
   ],
   "source": [
    "import gradio as gr\n",
    "import joblib\n",
    "import pandas as pd\n",
    "\n",
    "\n",
    "\n",
    "key_df = pd.DataFrame([1,2,3,4,5,6,7,8,9,10,11,12],['C#', 'F#', 'C', 'F', 'G', 'E', 'D#', 'G#', 'D', 'A#', 'A', 'B'])\n",
    "keydf1 = key_df.transpose()\n",
    "proba = pd.DataFrame([\"0-30\",\"30-70\",\"70-100\"],[\"Less Likely\",\"More Likely\",\"Most Likely\"])\n",
    "boba = proba.transpose()\n",
    "\n",
    "\n",
    "\n",
    "def greet(acousticness,duration_ms,energy,instrumentalness,speechiness,tempo,valence,key,mode):\n",
    "    input_model =[[acousticness/100,duration_ms*1000,energy/100,instrumentalness/100,key,mode,speechiness/100,tempo/100,valence/100]]\n",
    "    #     input_model=[[i/100 for i in input_model]]\n",
    "    #     model=joblib.load(\"C:/Users/bhipa/OneDrive/Desktop/Data Science Project/model.joblib\")\n",
    "    model=joblib.load(\"C:/Users/bhipa/OneDrive/Desktop/Data Science Project/model.joblib\")\n",
    "\n",
    "    pred=model.predict(input_model)\n",
    "    return round(pred[0]*100,2)\n",
    "\n",
    "\n",
    "\n",
    "with gr.Blocks() as demo:\n",
    "    with gr.Row():\n",
    "        with gr.Column(scale=1,min_width=515):\n",
    "            gr.Image(\"C:/Users/bhipa/OneDrive/Desktop/Data Science Course/AcousticLogo3.png\").style(height='7')\n",
    "            acousticness = gr.Slider(0.00001, 1.00101,label=\"Acousticness\")\n",
    "            duration = gr.Slider(1, 1000,label=\"Duration\")\n",
    "            energy = gr.Slider(0.0001, 1.0010,label=\"Energy\")\n",
    "            instrumentalness = gr.Slider(0.000001, 1.001001,label=\"Instrumentalness\")\n",
    "            speechiness = gr.Slider(0.0001, 1.0010,label=\"Speechiness\")\n",
    "            tempo = gr.Slider(0.0001, 1.0101,label=\"Tempo\")\n",
    "            valence = gr.Slider(0.0001, 1.0010,label=\"Valence\")\n",
    "        with gr.Column(scale=2,min_width=700):\n",
    "            with gr.Row():\n",
    "                with gr.Column(scale=1,min_width=685):\n",
    "                    gr.Dataframe(keydf1)\n",
    "                with gr.Column(scale=2,min_width=350):\n",
    "                    key = gr.Dropdown([1,2,3,4,5,6,7,8,9,10,11,12],label=\"Key\")\n",
    "                with gr.Column(scale=3,min_width=350):\n",
    "                    mode = gr.Dropdown([0,1],label=\"Mode(Minor/Major)\")\n",
    "            btn = gr.Button(\"PREDICT\").style()\n",
    "            btn.click(fn=greet, inputs=[acousticness,duration,energy,instrumentalness,speechiness,tempo,valence,key,mode], outputs=gr.Number(label=\"Popularity\"))\n",
    "            gr.Dataframe(boba)\n",
    "            gr.Image(\"C:/Users/bhipa/OneDrive/Desktop/Data Science Course/downground3.png\").style(height='7')\n",
    "\n",
    "demo.launch()"
   ]
  },
  {
   "cell_type": "code",
   "execution_count": 6,
   "id": "5cc670a6",
   "metadata": {},
   "outputs": [
    {
     "name": "stdout",
     "output_type": "stream",
     "text": [
      "Object `__theme=dark` not found.\n"
     ]
    }
   ],
   "source": [
    "?__theme=dark"
   ]
  },
  {
   "cell_type": "code",
   "execution_count": null,
   "id": "67b39863",
   "metadata": {},
   "outputs": [],
   "source": []
  }
 ],
 "metadata": {
  "kernelspec": {
   "display_name": "Python 3 (ipykernel)",
   "language": "python",
   "name": "python3"
  },
  "language_info": {
   "codemirror_mode": {
    "name": "ipython",
    "version": 3
   },
   "file_extension": ".py",
   "mimetype": "text/x-python",
   "name": "python",
   "nbconvert_exporter": "python",
   "pygments_lexer": "ipython3",
   "version": "3.9.13"
  }
 },
 "nbformat": 4,
 "nbformat_minor": 5
}
